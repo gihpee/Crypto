{
 "cells": [
  {
   "cell_type": "markdown",
   "id": "46eadc6c",
   "metadata": {},
   "source": [
    "# Надстройка российского модуля КриптоПро над децентрализованной сетью HyperledgerFabric"
   ]
  },
  {
   "cell_type": "markdown",
   "id": "f887c70d",
   "metadata": {},
   "source": [
    "### Введение"
   ]
  },
  {
   "cell_type": "markdown",
   "id": "6826fd11",
   "metadata": {},
   "source": [
    "[**Hyperledger Fabric**](https://www.hyperledger.org/use/fabric) — это программный фреймворк для разработки приложений и специализированных бизнес-решений на основе блокчейна. Это распределенная блокчейн сеть, состоящая из различных функциональных компонентов, которые устанавливаются на узлы сети. Компоненты Hyperledger Fabric представляют из себя Docker контейнеры, которые можно свободно скачать из DockerHub. Hyperledger Fabric также можно запустить в Kubernetes среде."
   ]
  },
  {
   "cell_type": "markdown",
   "id": "7052e788",
   "metadata": {},
   "source": [
    "Для написания смарт-контрактов (chaincode в контексте Hyperledger Fabric) в основном используется Golang  \n",
    "(хотя Hyperledger Fabric позволяет использовать и другие языки). Для разработки пользовательского приложения чаще всего  \n",
    "используется Node.js с соответствующим Hyperledger Fabric SDK.\n",
    "\n",
    "\n",
    "На узлах выполняется бизнес логика **(смарт-контракт) – chaincode**, хранится **состояние распределенного реестра (ledger data)** и исполняются другие системные службы платформы. **Узел – это только логическая единица**, разные узлы могут существовать на одном физическом сервере. Гораздо важнее – это как узлы сгруппированы **(Trusted domain)** и с какими функциями блокчейн сети они ассоциированы."
   ]
  },
  {
   "cell_type": "markdown",
   "id": "ecd2ad78",
   "metadata": {},
   "source": [
    "[**Модуль КриптоПро HLF**](https://www.cryptopro.ru/products/hlf), разработанный на базе сертифицированного СКЗИ КриптоПро CSP, обеспечивает возможность использования **российских криптографических алгоритмов** для реализации функций создания и проверки электронной подписи, шифрования/расшифрования данных в распределённых реестрах на основе Hyperledger Fabric v1.4."
   ]
  },
  {
   "cell_type": "markdown",
   "id": "045e12e3",
   "metadata": {},
   "source": [
    "### Установка Hyperledger Fabric"
   ]
  },
  {
   "cell_type": "markdown",
   "id": "6301e111",
   "metadata": {},
   "source": [
    "**Требуемые утилиты:**  \n",
    "\n",
    "1) **Операционная система**: Ubuntu Linux 14.04/16.04 LTS (обе 64bit), или macOS 10.12  \n",
    "2) **cURL tool**: последняя версия  \n",
    "3) **git**  \n",
    "4) **Docker engine**: версия 17.06.2 и выше  \n",
    "5) **Docker-compose**: версия 1.14 и выше  \n",
    "6) **Go**: версия 1.13.х  \n",
    "7) **Node**: версия 8.9 и выше (версия 9 не поддерживается, Node.js версии 10 поддерживается от 10.15.3 и выше)  \n",
    "8) **npm**: версия 5.х  \n",
    "9) **Python**: 2.7.x"
   ]
  },
  {
   "cell_type": "markdown",
   "id": "7fdee872",
   "metadata": {},
   "source": [
    "Возьмём готовый пример децентрализованной сети Hyperledger Fabric, находящийся в открытом доступе:  \n",
    "**git clone https://github.com/adhavpavan/BasicNetwork-2.0.git**"
   ]
  },
  {
   "cell_type": "markdown",
   "id": "f05a24c0",
   "metadata": {},
   "source": [
    "В рабочей папке создается директория /BasicNetwork-2.0, содержащая все необходимые файлы для запуска сети.  \n",
    "![jupiter](./hlf.png)"
   ]
  },
  {
   "cell_type": "markdown",
   "id": "86c71a47",
   "metadata": {},
   "source": [
    "### Установка КриптоПро HLF в сеть"
   ]
  },
  {
   "cell_type": "markdown",
   "id": "759841a1",
   "metadata": {},
   "source": [
    "Для того, чтобы использовать российские криптоалгоритмы в новосозданной распределенной сети, внесем некоторые изменения в  \n",
    "конфигурационные файлы согласно [инструкции](https://www.cryptopro.ru/sites/default/files/products/hlf/cryptopro_hlf_instructions_for_use.pdf)"
   ]
  },
  {
   "cell_type": "markdown",
   "id": "95878373",
   "metadata": {},
   "source": [
    "Для возможности использования поддерживаемых российских и межгосударственных стандартов к репозиторию Hyperledger Fabric v1.4 необходимо применить патч, добавляющий идентификаторы соответствующих алгоритмов из репозитория https://github.com/deemru/fabric/tree/v1.4.1-gost\n",
    "\n",
    "Далее необходимо добавить соответствующий модуль КриптоПро в чейнкод. Для этого нужно  \n",
    "добавить пакет \"cryptopro\" в зависимости *BasicNetwork-2.0/api-1.4/package.json* и импортировать модуль в код чейнкода:\n",
    "```\n",
    "\"dependencies\": {  \n",
    "  ...  \n",
    "    \"cryptopro\": \"1.0.0\",  \n",
    "  ...  \n",
    "}```"
   ]
  },
  {
   "cell_type": "markdown",
   "id": "19cb542a",
   "metadata": {},
   "source": [
    "Перед использованием необходимо будет ввести серийный номер с бланка лицензии, полученной у организации-разработчика или организации, имеющей права распространения продукта (дилера).  \n",
    "\n",
    "**cpconfig -license -set <серийный_номер>**"
   ]
  },
  {
   "cell_type": "markdown",
   "id": "11f200bf",
   "metadata": {},
   "source": [
    "В файлах конфигурационных файлах **BasicNetwork-2.0/artifacts/channel/config/core.yaml** и  \n",
    "**BasicNetwork-2.0/artifacts/channel/config/order.yaml** необходимо подключить плагин в секции BCCSP:  \n",
    "\n",
    "```\n",
    " Default: PLUGIN\n",
    " PLUGIN:  \n",
    "  Library: /usr/lib/cpro.so  \n",
    "  Config:  \n",
    "  Hash: SHA2  \n",
    "  Security: 256  \n",
    "  FileKeyStore:  \n",
    "  KeyStore: /etc/hyperledger/fabric/msp/keystore```  \n",
    " \n",
    "bccsp.BCCSP - плагин, позволяющий использовать российские криптографические алгоритмы, реализованные в СКЗИ КриптоПро CSP"
   ]
  },
  {
   "cell_type": "markdown",
   "id": "3cd1536d",
   "metadata": {},
   "source": [
    "### Сборка"
   ]
  },
  {
   "cell_type": "markdown",
   "id": "fc17742b",
   "metadata": {},
   "source": [
    "**Установка зависимостей**: *npm install*  \n",
    "**Развертиывание сети и запуск чейнкода**: *peer chaincode install* - установка чейнкода  \n",
    "*peer chaincode instantiate* - запуск чейнкода  \n",
    "**Сборка Hyperledger Fabric v1.4 для использования с плагином BCCSP**: *GOPATH=/go GO_TAGS=pluginsenabled make peer orderer*  \n",
    "**Запуск**: в директории BasicNetwork-2.0/artifacts необходимо ввести команду *docker-compose up -d*"
   ]
  },
  {
   "cell_type": "markdown",
   "id": "f8c55497",
   "metadata": {},
   "source": [
    "### Пример использования модуля:"
   ]
  },
  {
   "cell_type": "markdown",
   "id": "86995197",
   "metadata": {},
   "source": [
    "Создадим простейший смарт-контракт в коде чейнкода:"
   ]
  },
  {
   "cell_type": "markdown",
   "id": "8cf10679",
   "metadata": {},
   "source": [
    "Импортируем модуль:  \n",
    "\n",
    "```const CryptoPro = require('cryptopro');``` "
   ]
  },
  {
   "cell_type": "markdown",
   "id": "f467a8bc",
   "metadata": {},
   "source": [
    "Смарт-контракт, реализующий гостовский алгоритм ЭЦП модуля КриптоПро:  \n",
    "\n",
    "```\n",
    "const { Context } = require('fabric-contract-api');  \n",
    "const CryptoPro = require('cryptopro');\n",
    "```\n",
    "  \n",
    "```\n",
    "class MyContract extends Context {  \n",
    "  async myFunction() {  \n",
    "    const cryptoPro = new CryptoPro();  \n",
    "    const signature = await cryptoPro.sign(data, certificate);  \n",
    "    return signature;  \n",
    "  }  \n",
    "}\n",
    "```\n",
    "  \n",
    "```\n",
    "module.exports = MyContract;\n",
    "```"
   ]
  }
 ],
 "metadata": {
  "kernelspec": {
   "display_name": "Python 3",
   "language": "python",
   "name": "python3"
  },
  "language_info": {
   "codemirror_mode": {
    "name": "ipython",
    "version": 3
   },
   "file_extension": ".py",
   "mimetype": "text/x-python",
   "name": "python",
   "nbconvert_exporter": "python",
   "pygments_lexer": "ipython3",
   "version": "3.8.8"
  }
 },
 "nbformat": 4,
 "nbformat_minor": 5
}

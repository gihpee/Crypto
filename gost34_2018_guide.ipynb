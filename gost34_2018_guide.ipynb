{
 "cells": [
  {
   "cell_type": "markdown",
   "id": "a5291da1",
   "metadata": {},
   "source": [
    "# Алгоритмы ГОСТ34-2018"
   ]
  },
  {
   "cell_type": "markdown",
   "id": "040fb07b",
   "metadata": {},
   "source": [
    "## [ГОСТ34.12-2018](https://files.stroyinf.ru/Data/705/70509.pdf) (Кузнечик)"
   ]
  },
  {
   "cell_type": "markdown",
   "id": "110edab8",
   "metadata": {},
   "source": [
    "Симметричный алгоритм блочного шифрования, состоит из 10 раундов. Оперирует блоками размером **128 бит**, мастер ключом размером **256 бит** и раундовыми ключами размером **128 бит**. В основе алгоритма лежит использование SP-сетей (подстановочно-перестановочные сети).\n",
    "Такой шифр получает на вход блок, ключ и совершает несколько раундов (в алгоритме Кузнечик полных раундов - 9), состоящих из стадий подстановки и перестановки."
   ]
  },
  {
   "cell_type": "markdown",
   "id": "f39a865a",
   "metadata": {},
   "source": [
    "Раунды алгоритма Кузнечик содержат 3 последовательные операции:\n",
    "1)\t**Побитовый XOR ключа и блока данных (X)**. Перед началом каждого раунда очередной 128-битовой входной вектор складывается с раундовым ключом.\n",
    "2)\t**Нелинейное преобразование (S)**: замена одного байта входного вектора на другой в соответствии с фиксированной подстановкой.\n",
    "3)\t**Линейное преобразование (L)**: над каждым байтом блока производится операция умножения, определенная в поле Гаула по модулю неприводимого многочлена степени 8, на один из коэффициентов ряда в зависимости от порядкового номера байта. Байты складываются между собой по модулю 2, и все 16 байт блока сдвигаются в сторону младшего разряда. \n",
    "**Последний 10-й раунд не полный. Он включает в себя только операцию XOR с ключом.**"
   ]
  },
  {
   "cell_type": "markdown",
   "id": "eec4b447",
   "metadata": {},
   "source": [
    "Формирование раундовых ключей происходит из мастер-ключа. Первая пара ключей является результатом деления мастер-ключа пополам. Последующие получаются посредством применения 8 итераций сетей Фейстеля совместно с некоторой константой, которая получается из применения линейного преобразования к значению номера итерации.\n",
    "![jupiter](./fejstel.png)"
   ]
  },
  {
   "cell_type": "markdown",
   "id": "78b4c998",
   "metadata": {},
   "source": [
    "В результате, шифрование одного 128-битного входного блока a описывается следующим уравнением: \n",
    "$E(a)=X[K_{10}]LSX[K_{9}]…LSX[K_{1}](a)$\n",
    "Расшифрование реализуется обращением преобразований и применением их в обратном порядке: \n",
    "$D(a)=X[K_{1}] S^{-1} L^{-1} X[K_{2}]…S^{-1} L^{-1} X[K_{9}] S^{-1} L^{-1} X[K_{10}](a)$"
   ]
  },
  {
   "cell_type": "markdown",
   "id": "2171cab2",
   "metadata": {},
   "source": [
    "### Примеры использования"
   ]
  },
  {
   "cell_type": "code",
   "execution_count": 191,
   "id": "7a0d1c87",
   "metadata": {},
   "outputs": [],
   "source": [
    "from gost34.grasshopper import grasshopper\n",
    "import binascii"
   ]
  },
  {
   "cell_type": "markdown",
   "id": "51a09cc6",
   "metadata": {},
   "source": [
    "Ввиду того, что во всех положениях ГОСТ34 описана работа с текстом, представленным в 16-ричном формате, для большей наглядности напишем вспомогательную функцию, которая будет переводить текстовые сообщения в hex формат и дополнять их незначащими нулями до размера, кратного 4n бит:"
   ]
  },
  {
   "cell_type": "code",
   "execution_count": 192,
   "id": "7d9ba169",
   "metadata": {},
   "outputs": [],
   "source": [
    "def str_to_hex(message, n):\n",
    "    hex_message = message.encode('CP866').hex() # переводим сообщение в hex формат\n",
    "    \n",
    "    if len(hex_message) == n:\n",
    "        return hex_message\n",
    "    else:\n",
    "        # дополняем нулями до размера, кратного 4n бит\n",
    "        padded_hex_message = hex_message.ljust(len(hex_message) + (n - len(hex_message) % n), \"0\")\n",
    "    \n",
    "    return padded_hex_message"
   ]
  },
  {
   "cell_type": "markdown",
   "id": "49e7ef60",
   "metadata": {},
   "source": [
    "И также функция, которая bytearray переводит сначала в hex, а затем в привычный текст:"
   ]
  },
  {
   "cell_type": "code",
   "execution_count": 193,
   "id": "bb3ea986",
   "metadata": {},
   "outputs": [],
   "source": [
    "def hex_to_str(message):\n",
    "    hex_decrypt = binascii.hexlify(bytearray(message)).decode('CP866')\n",
    "    text_message = bytes.fromhex(hex_decrypt).decode('CP866')\n",
    "    \n",
    "    return text_message"
   ]
  },
  {
   "cell_type": "markdown",
   "id": "ef727df8",
   "metadata": {},
   "source": [
    "### Шифрование"
   ]
  },
  {
   "cell_type": "code",
   "execution_count": 194,
   "id": "14187484",
   "metadata": {},
   "outputs": [
    {
     "name": "stdout",
     "output_type": "stream",
     "text": [
      "▒Цe #ЎО┌┼O\u0015\n",
      "┐Ж┤\n"
     ]
    },
    {
     "data": {
      "text/plain": [
       "'b19665ff23f68edac57f4f150abf86b4'"
      ]
     },
     "execution_count": 194,
     "metadata": {},
     "output_type": "execute_result"
    }
   ],
   "source": [
    "message_1 = str_to_hex(\"qqqqqqqqqqqqqqqq\", 32) #исходное сообщение\n",
    "key_1 = binascii.unhexlify('8899aabbccddeeff0011223344556677fedcba98765432100123456789abcdef') #мастер-ключ (в hex формате)\n",
    "\n",
    "gost3412_1 = grasshopper(key_1) #создаем экземпляр класса на мастер-ключе\n",
    "message_encrypt_1 = gost3412_1.encryption(binascii.unhexlify(message_1)) #шифруем сообщение\n",
    "\n",
    "print(hex_to_str(message_encrypt_1)) #зашифрованное сообщение в текстовом формате\n",
    "binascii.hexlify(bytearray(message_encrypt_1)).decode('CP866') #зашифрованное сообщение в hex формате"
   ]
  },
  {
   "cell_type": "markdown",
   "id": "c5d77f53",
   "metadata": {},
   "source": [
    "Шифрование длинного сообщения"
   ]
  },
  {
   "cell_type": "code",
   "execution_count": 195,
   "id": "cd56830f",
   "metadata": {},
   "outputs": [
    {
     "name": "stdout",
     "output_type": "stream",
     "text": [
      "ў@И\u001c",
      "в╒5Р(%ибC╨}А:LЫХu|]╘P╤└0Kбш\u0003AР№VЗMKя#}п╕ф C├,F└yo\u001d",
      "TА.нь░▄S┘╦╧°Ф┐<9\f",
      "1╒Л@\u001fв\u000f\u0015\u001e",
      "\"·XЁ╨▌~*ЧуaЄtkh№╕ХL╦√╜╔\u0012а╖╙йЎ%c█ц█п╒ЪВ║\u0007X+^mлМн╤їv\u001e",
      "·╠\u001aХ\u001a╡Чi `PXи╬└^╔>юя2bG└╪▄}\u001bR▓д?\"rЗ╝█uUЖО?ЙёТЮvvpСё\u001bt!\r",
      "C|╜аw\u0011|Є\u0003R╦Уk╙:/·^k8-\n"
     ]
    },
    {
     "data": {
      "text/plain": [
       "'f740881ca2d535902825a8a143d07d803a4c9b95757c5dd450d1c0304ba1e8034190fc56874d4bef237dafb8e4ff43c32c46c0796f1d54802eadecb0dc53d9cbcff894bf3c390c31d58b401fa20f151e22fa58f0d0dd7e2a97e361f2746b68fcb8954ccbfbbdc912a0b7d3a9f62563dbe6dbafd59a82ba07582b5e6dab8cadd1f5761efacc1a951ab5976920605058a8cec05ec93eeeef326247c0d8dc7d1b52b2a43f227287bcdb7555868e3f89f1929e76767091f11b74210d437cbda077117cf20352cb7f936bd33a2ffa5e6b382d'"
      ]
     },
     "execution_count": 195,
     "metadata": {},
     "output_type": "execute_result"
    }
   ],
   "source": [
    "message_2 = 'Lorem ipsum dolor sit amet, consectetur adipiscing elit. Vestibulum sollicitudin fermentum urna, quis tempor lectus posuere id. Aenean vitae ipsum efficitur, auctor urna sagittis, pretium sapien'\n",
    "            \n",
    "block_size = 16 #размер блока алгоритма в символах\n",
    "blocks = [message_2[i:i+block_size] for i in range(0, len(message_2), block_size)] #разбиваем сообщение на блоки длины блоков базового алгоритма\n",
    "\n",
    "key_2 = binascii.unhexlify('8899aabbccddeeff0011223344556677fedcba98765432100123456789abcdef') #мастер-ключ\n",
    "gost3412_2 = grasshopper(key_2) #экземпляр класса на мастер-ключе\n",
    "\n",
    "message_encrypt_2 = [] #итоговый массив, в который будет записывать зашифрованниые блоки\n",
    "\n",
    "for block in blocks:\n",
    "    block = str_to_hex(block, 32)\n",
    "    message_encrypt_2.extend(gost3412_2.encryption(binascii.unhexlify(block))) #каждый блок шифруем и записываем его в итоговый массив\n",
    "\n",
    "print(hex_to_str(message_encrypt_2)) #зашифрованное сообщение в текстовом формате\n",
    "binascii.hexlify(bytearray(message_encrypt_2)).decode('CP866') #зашифрованное сообщение в hex формате"
   ]
  },
  {
   "cell_type": "markdown",
   "id": "cf813e2a",
   "metadata": {},
   "source": [
    "### Дешифрование"
   ]
  },
  {
   "cell_type": "code",
   "execution_count": 196,
   "id": "b1330f45",
   "metadata": {},
   "outputs": [
    {
     "name": "stdout",
     "output_type": "stream",
     "text": [
      "qqqqqqqqqqqqqqqq\n"
     ]
    }
   ],
   "source": [
    "key_1 = binascii.unhexlify('8899aabbccddeeff0011223344556677fedcba98765432100123456789abcdef') \n",
    "gost3412_1 = grasshopper(key_1) #создаем экземпляр класса на известном мастер-ключе\n",
    "\n",
    "message_decrypt_1 = gost3412_1.decryption(message_encrypt_1) #дешифруем сообщение\n",
    "\n",
    "print(hex_to_str(message_decrypt_1))"
   ]
  },
  {
   "cell_type": "code",
   "execution_count": 197,
   "id": "9f7444c9",
   "metadata": {},
   "outputs": [
    {
     "name": "stdout",
     "output_type": "stream",
     "text": [
      "Lorem ipsum dolor sit amet, consectetur adipiscing elit. Vestibulum sollicitudin fermentum urna, quis tempor lectus posuere id. Aenean vitae ipsum efficitur, auctor urna sagittis, pretium sapien\u0000\u0000\u0000\u0000\u0000\u0000\u0000\u0000\u0000\u0000\u0000\u0000\u0000\u0000\n"
     ]
    }
   ],
   "source": [
    "encrypted_blocks = [message_encrypt_2[i:i+block_size] for i in range(0, len(message_encrypt_2), block_size)] #создаем массив зашифрованных блоков длины базового алгоритма\n",
    "\n",
    "key_2 = binascii.unhexlify('8899aabbccddeeff0011223344556677fedcba98765432100123456789abcdef')\n",
    "gost3412_2 = grasshopper(key_2) #создаем экземпляр класса на известном мастер-ключе\n",
    "\n",
    "message_decrypt_2 = [] #создаем итоговый массив, в который будем записывать дешифрованные блоки\n",
    "\n",
    "for block in encrypted_blocks:\n",
    "    message_decrypt_2.extend(gost3412_2.decryption(block)) #каждый блок дешифруем и записываем в итоговый массив\n",
    "\n",
    "\n",
    "print(hex_to_str(message_decrypt_2))"
   ]
  },
  {
   "cell_type": "markdown",
   "id": "e4036648",
   "metadata": {},
   "source": [
    "## [ГОСТ34.12-2018](https://files.stroyinf.ru/Data/705/70509.pdf) (Магма)"
   ]
  },
  {
   "cell_type": "markdown",
   "id": "dc16df60",
   "metadata": {},
   "source": [
    "Алгоритм шифрования, который также описан в стандарте ГОСТ 34.12-2018. Использует **64-битовые** блоки, **256-битовый** мастер-ключ и **32-битные** раундовые ключи. Алгоритм проходит **32 раунда** и использует следующие преобразования:"
   ]
  },
  {
   "cell_type": "markdown",
   "id": "6dcaf459",
   "metadata": {},
   "source": [
    "Первоначально входной блок разбивается на 2 вектора по 32 бит: $a_{0}$ и $a_{1}$. \n",
    "Функция преобразования $G[k](a_{1}, a_{0})$ принимает упорядоченную пару этих векторов и возвращает упорядоченную пару такого вида: $G[k](a_{1}, a_{0})=(a_{0}, g[k](a_{0})⨁a_{1})$\n",
    "**То есть элементы меняются местами и второй элемент возвращается с применением XOR к результату функции g на раундовом ключе k и значении первого элемента.**"
   ]
  },
  {
   "cell_type": "markdown",
   "id": "43c08141",
   "metadata": {},
   "source": [
    "Функция g является **линейным преобразованием** и работает следующим образом:\n",
    "$g[k](a)=(t(Vec_{32} (Int_{32} (a)⊞Int_{32} (k)))) ⋘_{11}$\n",
    "Образы вектора a и раундового ключа k в кольце $Z_{2^{32}}$ складываются и отображаются обратно в 32-битовый вектор. Далее, к этому результату применяется нелинейная функция постановки t, и наконец, происходит 11-битовый циклический сдвиг над результатом работы функции t.\n",
    "Функция t разбивает входной 32-битовый вектор на 8 4-битных вектора и применяет константную подстановку π к каждому из них: \n",
    "$t(a)=t(a_{7}∥⋯∥a_{0})=π_{7} (a_{7})∥⋯∥π_{0} (a_{0})$"
   ]
  },
  {
   "cell_type": "markdown",
   "id": "76434dd9",
   "metadata": {},
   "source": [
    "32-й раунд отличается от остальных: функция преобразования $G^{*}$ принимает упорядоченную пару, но возвращает уже единственное значение – 64-битный выходной вектор, **являющийся искомым шифром**:\n",
    "$G^* [k](a_{1}, a_{0})=(g[k](a_{0})⊕a_{1})∥a_{0}$"
   ]
  },
  {
   "cell_type": "markdown",
   "id": "b0e5a35d",
   "metadata": {},
   "source": [
    "**Развертывание мастер-ключа K** происходит следующим образом: первые 8 раундовых ключей происходит простым делением мастер-ключа на 32-битные последовательности. Соответственно первый раундовый ключ – это старшие 32 бит мастер-ключа, восьмой – младшие. Следующие 8 ключей, как и следующие вплоть до 24-го аналогичны первым восьми. То есть 9 и 17 ключи совпадают с первым, 16 и 24 совпадают с восьмым. Последние 8 ключей получаются обратным образом: 25-ый ключ аналогичен восьмому, а 32-ой – первому. Итого 32 итерационных ключа."
   ]
  },
  {
   "cell_type": "markdown",
   "id": "3fa6c2ac",
   "metadata": {},
   "source": [
    "**Общая формула алгоритма**: $E(a)=G^* [K_{32}]G[K_{31}]…G[K_{2}]G[K_{1}](a_{1},a_{0})$\n",
    "Расшифрование происходит в зависимости от итерационных ключей и реализует обратную подстановку: $D(a)=G^* [K_{1}]G[K_{2}]…G[K_{31}]G[K_{32}](a_{1}, a_{2})$"
   ]
  },
  {
   "cell_type": "markdown",
   "id": "2bc9b7fb",
   "metadata": {},
   "source": [
    "Значения константных подстановок (из ГОСТ 34.12-2018):  \n",
    "$π_{0}=(12,4,6,2,10,5,11,9,14,8,13,7,0,3,15,1)$  \n",
    "$π_{1}=(6,8,2,3,9,10,5,12,1,14,4,7,1,13,0,15)$  \n",
    "$π_{2}=(11,3,5,8,2,15,10,13,14,1,7,4,12,9,6,0)$  \n",
    "$π_{3}=(12,8,2,1,13,4,15,6,7,0,10,5,3,14,9,11)$  \n",
    "$π_{4}=(7,15,5,10,8,1,6,13,0,9,3,14,11,4,2,12)$  \n",
    "$π_{5}=(5,13,15,6,9,2,12,10,11,7,8,1,4,3,14,0)$  \n",
    "$π_{6}=(8,14,2,5,6,9,1,12,15,4,11,0,13,10,3,7)$  \n",
    "$π_{7}=(1,7,14,13,0,5,8,3,4,15,10,6,9,12,11,2)$"
   ]
  },
  {
   "cell_type": "markdown",
   "id": "d4b9fa97",
   "metadata": {},
   "source": [
    "### Примеры использования"
   ]
  },
  {
   "cell_type": "code",
   "execution_count": 198,
   "id": "2d39df16",
   "metadata": {},
   "outputs": [],
   "source": [
    "from gost34.magma import magma"
   ]
  },
  {
   "cell_type": "markdown",
   "id": "9efe7598",
   "metadata": {},
   "source": [
    "### Шифрование"
   ]
  },
  {
   "cell_type": "code",
   "execution_count": 199,
   "id": "64e985bd",
   "metadata": {},
   "outputs": [
    {
     "name": "stdout",
     "output_type": "stream",
     "text": [
      "х_c5D:╡`\n"
     ]
    },
    {
     "data": {
      "text/plain": [
       "'e55f6335443ab560'"
      ]
     },
     "execution_count": 199,
     "metadata": {},
     "output_type": "execute_result"
    }
   ],
   "source": [
    "message_1 = str_to_hex('abcdwfgq', 16)\n",
    "\n",
    "key_1 = binascii.unhexlify('8899aabbccddeeff0011223344556677fedcba98765432100123456789abcdef')\n",
    "gost3412_1 = magma(key_1)\n",
    "\n",
    "message_encrypt_1 = gost3412_1.encrypt(list(binascii.unhexlify(message_1)))\n",
    "\n",
    "print(hex_to_str(message_encrypt_1))\n",
    "binascii.hexlify(bytearray(message_encrypt_1)).decode('CP866')"
   ]
  },
  {
   "cell_type": "code",
   "execution_count": 200,
   "id": "abc73abf",
   "metadata": {},
   "outputs": [
    {
     "name": "stdout",
     "output_type": "stream",
     "text": [
      "╟(пп\u001fЕрr▐╩)д░\u001f\u0013\u0019▀[8eХ▒1│)h╟M\u0018rJ!\u001d",
      "fУ\f",
      "з\u0003в▒\u00193¤ь\u0019═о\u0019a\u0013T─A\u0005┴┘Щ\u001a\u0006\u0014У╨╤и▌W%6с┼Э\n",
      "vaтd╕\u0000ў\r",
      "Вь(╠╕!ЇФ#C¤[W&·MzЭ\u001fДQ.Ъ\u0005k▓\r",
      "P▓ЬUe╕╖\u001e",
      "\u00011Ъ╩(╛M\u0016\u000f9\u001c",
      "o╬ЎыТ│жрєLhSюи╝Т\"`╫t\u0006B\u001f/\u0005\u0011*╡{Ч╘\u0014╨ё¤/3ит\u001c",
      "<ї\u0005\u0016п:я▓\u001a\u0001Az·╤\u000b",
      "ИYLц%ы1Ж\bМЩP▒Ю\u0013[S0Ю\n"
     ]
    },
    {
     "data": {
      "text/plain": [
       "'c728afaf1f85e072deca29a4b01f1319df5b386595b131b32968c74d18724a211d66930ca703a2b11933fdec19cdae19611354c44105c1d9991a061493d0d1a8dd572536e1c59d0a7661e264b800f70d82ec28ccb821f4942343fd5b5726fa4d7a9d1f84512e9a056bb20d50b29c5565b8b71e01319aca28be4d160f391c6fcef6eb92b3a6e0f34c6853eea8bc922260d77406421f2f05112ab57b97d414d0f1fd2f33a8e21c3cf50516af3aefb21a01417afad10b88594ce625eb3186088c9950b19e135b53309e'"
      ]
     },
     "execution_count": 200,
     "metadata": {},
     "output_type": "execute_result"
    }
   ],
   "source": [
    "message_2 = 'Lorem ipsum dolor sit amet, consectetur adipiscing elit. Vestibulum sollicitudin fermentum urna, quis tempor lectus posuere id. Aenean vitae ipsum efficitur, auctor urna sagittis, pretium sapien'\n",
    "\n",
    "block_size = 8 #размер блока алгоритма\n",
    "blocks = [message_2[i:i+block_size] for i in range(0, len(message_2), block_size)]\n",
    "\n",
    "key_2 = binascii.unhexlify('ffeeddccbbaa99887766554433221100f0f1f2f3f4f5f6f7f8f9fafbfcfdfeff')\n",
    "gost3412_2 = magma(key_2)\n",
    "\n",
    "message_encrypt_2 = [] #итоговый массив, в который будет записывать зашифрованниые блоки\n",
    "\n",
    "for block in blocks:\n",
    "    block = str_to_hex(block, 16)\n",
    "    message_encrypt_2.extend(gost3412_2.encrypt(list(binascii.unhexlify(block))))\n",
    "\n",
    "\n",
    "print(hex_to_str(message_encrypt_2))\n",
    "binascii.hexlify(bytearray(message_encrypt_2)).decode('CP866')"
   ]
  },
  {
   "cell_type": "markdown",
   "id": "56f066ea",
   "metadata": {},
   "source": [
    "### Дешифрование"
   ]
  },
  {
   "cell_type": "code",
   "execution_count": 201,
   "id": "e4e1c351",
   "metadata": {},
   "outputs": [
    {
     "name": "stdout",
     "output_type": "stream",
     "text": [
      "abcdwfgq\n"
     ]
    }
   ],
   "source": [
    "key_1 = binascii.unhexlify('8899aabbccddeeff0011223344556677fedcba98765432100123456789abcdef')\n",
    "gost3412_1 = magma(key_1)\n",
    "\n",
    "message_decrypt_1 = gost3412_1.decrypt(message_encrypt_1)\n",
    "\n",
    "print(hex_to_str(message_decrypt_1))"
   ]
  },
  {
   "cell_type": "code",
   "execution_count": 202,
   "id": "0b0d39b8",
   "metadata": {},
   "outputs": [
    {
     "name": "stdout",
     "output_type": "stream",
     "text": [
      "Lorem ipsum dolor sit amet, consectetur adipiscing elit. Vestibulum sollicitudin fermentum urna, quis tempor lectus posuere id. Aenean vitae ipsum efficitur, auctor urna sagittis, pretium sapien\u0000\u0000\u0000\u0000\u0000\u0000\n"
     ]
    }
   ],
   "source": [
    "encrypted_blocks = [message_encrypt_2[i:i+block_size] for i in range(0, len(message_encrypt_2), block_size)]\n",
    "\n",
    "key_2 = binascii.unhexlify('ffeeddccbbaa99887766554433221100f0f1f2f3f4f5f6f7f8f9fafbfcfdfeff')\n",
    "gost3412_2 = magma(key_2)\n",
    "\n",
    "message_decrypt_2 = [] #создаем итоговый массив, в который будем записывать дешифрованные блоки\n",
    "\n",
    "for block in encrypted_blocks:\n",
    "    message_decrypt_2.extend(gost3412_2.decrypt(block)) #каждый блок дешифруем и записываем в итоговый массив\n",
    "\n",
    "\n",
    "print(hex_to_str(message_decrypt_2))"
   ]
  },
  {
   "cell_type": "markdown",
   "id": "a65e4a60",
   "metadata": {},
   "source": [
    "## [ГОСТ34.11-2018](https://files.stroyinf.ru/Data/705/70506.pdf) (Стрибог)"
   ]
  },
  {
   "cell_type": "markdown",
   "id": "5a0dce37",
   "metadata": {},
   "source": [
    "**Стрибог512** – хеш-функция с длиной выходного значения **512 бит**. Входные данные – блок длиной **512 бит**. Если длина сообщения больше 512 бит – происходит усечение сообщения. Последний блок дополняется до длины 512 бит. Функции преобразования алгоритма:"
   ]
  },
  {
   "cell_type": "markdown",
   "id": "b82f7939",
   "metadata": {},
   "source": [
    "1) **XOR (X)**: $X[k](a)=k⨁a$, k и a – 512-битовые векторы\n",
    "2) **Нелинейное преобразование, функция подстановки (S)**: \n",
    "   $S(a)=S(a_{63}∥⋯∥a_{0})= π(a_{63})∥⋯∥π(a_{0})$ – каждый байт входного 512-битового вектора a заменяется соответствующим        байтом из      таблицы подстановки π.\n",
    "3) **Линейное преобразование, функция перестановки и умножения (P и L)**:\n",
    "   $P(a)=P(a_{63}∥⋯∥a_{0})=a_{τ(63)}∥⋯∥a_{τ(0)}$  – каждая пара байтов входной 512-битовой последовательности происходит замена одного    байта другим в соответствии с таблицей перестановок τ.\n",
    "   $L(a)=L(a_{7}∥⋯∥a_{0})=l(a_{7})∥⋯∥l(a_{0})$ – входной 512-битовый вектор разбивается на 8 64-битных вектора, к каждому из которых      применяется умножение справа на матрицу A над полем Гаула 2-го порядка."
   ]
  },
  {
   "cell_type": "markdown",
   "id": "ad841189",
   "metadata": {},
   "source": [
    "**Основная функция алгоритма** – функция сжатия $g_{N}$, которая принимает на вход упорядоченную пару 512-битовых векторов и возвращает один 512-битовый вектор. Она использует вспомогательную 13-раундовую функцию E двух переменных, которая описывается следующим образом:\n",
    "$E(K,m)=X[K_{13}]LPSX[K_{12}]…LPSX[K_{2}]LPSX[K_{1}](m)$, где K-некоторый 512-битовый мастер-ключ, $K_{i}$ – раундовые ключи. **Раундовые ключи вычисляются следующим образом**: первый раундовый ключ совпадает с мастер-ключом, дальнейшие получаются подстановкой-перестановкой результата побитового сложения предыдущего раундового ключа и раундовой константы:\n",
    "$K_{i}=LPS(K_{i-1}⊕C_{i-1})$\n",
    "Первые 12 раундов функции E – это XOR подстановка и перестановка (LPSX) раундового ключа и некоторых входных данных m. Последний раунд – обычный XOR."
   ]
  },
  {
   "cell_type": "markdown",
   "id": "2b73a4de",
   "metadata": {},
   "source": [
    "**Функция сжатия описывается следующим образом**:  \n",
    "$g_{N} (h,m)=E(LPS(h⊕N),m)⊕h⊕m$ – входные значения побитово складываются с результатом выполнения функции E над подстановкой-перестановкой (LPS) XOR 1-го входного значения с некоторым значением N (этот результат используется как мастер-ключ) и вторым входным значением m. \n",
    "**Сам алгоритм реализуется в 3 этапа.**\n",
    "\n",
    "**1 этап (присваивание начальных значений)**: переменной h присваивается значение вектора инициализации, который в свою очередь равен $0^{512}$. Переменным N и Σ также присваивается значение $0^{512}$.\n",
    "\n",
    "**2 этап (усечение входной последовательности данных M)**: если |M|≥512, то определяется значение m, равное последним 512 битам M. Далее переопределяются h,N и Σ:\n",
    "\n",
    "$h=g_{N} (h,m)$  \n",
    "$N=Vec_{512} (Int_{512} (N)⊞512)$  \n",
    "$Σ=Vec_{512} (Int_{512} (Σ)⊞Int_{512} (m))$  \n",
    "После этого из M, удаляются последние 512 бит. Алгоритм этого этапа применяется до тех пор, пока М будет не больше 511 бит.  \n",
    "\n",
    "**3 этап (дополнение входной последовательности и вычисление хеш-кода)**:\n",
    "$m=0^{511-|M|} ∥1∥M$ – определяем/переопределяем m  \n",
    "Переопределяем h,N и Σ:  \n",
    "$h=g_{N} (h,m)$  \n",
    "$N=Vec_{512} (Int_{512} (N)⊞|M|)$  \n",
    "$Σ=Vec_{512} (Int_{512} (Σ)⊞Int_{512} (m))$  \n",
    "Еще 2 раза переопределяется h:  \n",
    "$h=g_{0} (h,N)$  \n",
    "$h=g_{0} (h,Σ)$  \n",
    "**Конечное значение h является искомым.**  \n",
    "  \n",
    "Таблица подстановок π и таблица подстановок τ совпадают с таблицами в алгоритме Кузнечик."
   ]
  },
  {
   "cell_type": "markdown",
   "id": "2421c812",
   "metadata": {},
   "source": [
    "**Стрибог256** – хеш-функция аналогичная Стрибог512, за исключением некоторых моментов:  \n",
    "1) Выходное значение – 256-битовый хеш-код.  \n",
    "2) Вектор инициализации равен $(00000001)^{64}$  \n",
    "3) На 3 этапе, добавляется еще одно, третье переопределение переменной h:  \n",
    "$h=MSB_{256} (h)$ – от 512-битового h отсекаются младшие 256 бит."
   ]
  },
  {
   "cell_type": "markdown",
   "id": "0bd9926b",
   "metadata": {},
   "source": [
    "### Примеры использования\n",
    "### Стрибог256"
   ]
  },
  {
   "cell_type": "code",
   "execution_count": 203,
   "id": "57227875",
   "metadata": {},
   "outputs": [],
   "source": [
    "from gost34.streebog256 import streebog256"
   ]
  },
  {
   "cell_type": "code",
   "execution_count": 204,
   "id": "cce31e79",
   "metadata": {},
   "outputs": [
    {
     "name": "stdout",
     "output_type": "stream",
     "text": [
      "Иb2∙\f",
      "Ш6┘dОд\u001c",
      "OО\u0013+Й\u0007uШ∙╘`\"uї╞▀\r",
      "▀Аъ\n"
     ]
    },
    {
     "data": {
      "text/plain": [
       "'886232f90c9836d9648ea41c4f8e132b89077598f9d4602275f5c6df0ddf80ea'"
      ]
     },
     "execution_count": 204,
     "metadata": {},
     "output_type": "execute_result"
    }
   ],
   "source": [
    "message = str_to_hex('Hello World!', 128)\n",
    "\n",
    "gost3411_256 = streebog256(binascii.unhexlify(message))\n",
    "\n",
    "digest = gost3411_256.digest()\n",
    "\n",
    "print(hex_to_str(digest))\n",
    "binascii.hexlify(digest).decode('CP866')"
   ]
  },
  {
   "cell_type": "code",
   "execution_count": 205,
   "id": "3acc574a",
   "metadata": {},
   "outputs": [
    {
     "name": "stdout",
     "output_type": "stream",
     "text": [
      "\u0019ЄF┌Q=╨\f",
      ";Т№{М2¤_\u0016\u0010▓╕а╒  ъа┴\u0014t┬&в\n"
     ]
    },
    {
     "data": {
      "text/plain": [
       "'19f246da513dd00c3b92fc7b8c32fd5f1610b2b8a0d52020eaa0c11474c226a2'"
      ]
     },
     "execution_count": 205,
     "metadata": {},
     "output_type": "execute_result"
    }
   ],
   "source": [
    "message = str_to_hex('wygfiewidnwrwfgcsifsbgsvdkfygnksydvbkzsgvkzsdbkufgbzdsykgzsduygvusdgbyhdkbvgfnysugfvbusgyduy', 128)\n",
    "\n",
    "gost3411_256 = streebog256(binascii.unhexlify(message))\n",
    "\n",
    "digest = gost3411_256.digest()\n",
    "\n",
    "print(hex_to_str(digest))\n",
    "binascii.hexlify(digest).decode('CP866')"
   ]
  },
  {
   "cell_type": "markdown",
   "id": "f852b2b0",
   "metadata": {},
   "source": [
    "### Стрибог512"
   ]
  },
  {
   "cell_type": "code",
   "execution_count": 206,
   "id": "85f76665",
   "metadata": {},
   "outputs": [],
   "source": [
    "from gost34.streebog512 import streebog512"
   ]
  },
  {
   "cell_type": "code",
   "execution_count": 207,
   "id": "04ce1b38",
   "metadata": {},
   "outputs": [
    {
     "name": "stdout",
     "output_type": "stream",
     "text": [
      "ь3Ob\\5╤о┘\u0005▒<ъZ┬>К╧(\u0004─\u000b",
      "8╔щ╕<8УУЭ)\u0019zDk\u0001═\u0000PИY\u0014s5╘\u00013\b\"/и:╤u\u00179\u0006?їs*>\n"
     ]
    },
    {
     "data": {
      "text/plain": [
       "'ec334f625c35d1aed905b13cea5ac23e8acf2804c40b38c9e9b83c3893939d29197a446b01cd00507f8859147335d4013308222fa83ad1751739063ff5732a3e'"
      ]
     },
     "execution_count": 207,
     "metadata": {},
     "output_type": "execute_result"
    }
   ],
   "source": [
    "message = str_to_hex('crypto', 128)\n",
    "\n",
    "gost3411_512 = streebog512(binascii.unhexlify(message))\n",
    "\n",
    "digest = gost3411_512.digest()\n",
    "\n",
    "print(hex_to_str(digest))\n",
    "binascii.hexlify(digest).decode('CP866')"
   ]
  },
  {
   "cell_type": "code",
   "execution_count": 208,
   "id": "2ebe4147",
   "metadata": {},
   "outputs": [
    {
     "name": "stdout",
     "output_type": "stream",
     "text": [
      "0░/\u0018\u001f\u0007Е╬ьаЯ\u0014?Y├\u0016╦o┘д\u0005/[┼\b∙zд\u0015░▌x.■>еЧ┴С╨╣╕qў8ы\\\u001aw▌\u001fш1Kqly■хnБc]│\n"
     ]
    },
    {
     "data": {
      "text/plain": [
       "'30b02f181f0785ceeca09f143f59c316cb6fd9a4052f5bc508f97aa415b0dd782efe3ea597c191d0b9b871f738eb5c1a77dd1fe8314b716c79fee56e81635db3'"
      ]
     },
     "execution_count": 208,
     "metadata": {},
     "output_type": "execute_result"
    }
   ],
   "source": [
    "message = str_to_hex('aaaioioioiioiqjsdneijfweifwiefnieowejfiwnfiehfniwenfijwenf', 128)\n",
    "\n",
    "gost3411_512 = streebog512(binascii.unhexlify(message))\n",
    "\n",
    "digest = gost3411_512.digest()\n",
    "\n",
    "print(hex_to_str(digest))\n",
    "binascii.hexlify(digest).decode('CP866')"
   ]
  },
  {
   "cell_type": "markdown",
   "id": "43149ab8",
   "metadata": {},
   "source": [
    "## [ГОСТ34.10-2018](https://files.stroyinf.ru/Data/705/70512.pdf) (Алгоритмы формирования и проверки ЭЦП)"
   ]
  },
  {
   "cell_type": "markdown",
   "id": "820026a7",
   "metadata": {},
   "source": [
    "**Формирование подписи**  \n",
    "1) Первоначально из входного сообщения M вычисляется двоичный вектор хеш-кода h длины l бит по алгоритму Стрибог.  \n",
    "2) Далее, вычисляется целое число \\begin{equation}α=\\sum_{i=0}^{l-1} α_{i} 2^{i}\\end{equation}где $α_{i}$ – i-ый бит полученного хеш-кода. Значение α берется по модулю q, где q – порядок подгруппы группы точек эллиптической кривой, и приравнивается к переменной e (если e оказалось 0, то переопределяем его как 1).  \n",
    "3) Затем генерируется псевдослучайное число k: 0 < k < q и вычисляется точка эллиптической кривой C = kP (P – точка кривой порядка q, т.е. qP = 0). После этого определяется переменная r: $r=x_{c}$ (mod q),где $x_{c}$-x координата точки C. Если r = 0, то повторяем данный пункт заново.  \n",
    "4) Далее вычисляется значение s: s = (rd + ke)(mod q), где d – ключ подписи. Если  s = 0, необходимо вернуться к пункту 3.  \n",
    "5) В результате конкатенации двоичных векторов r || s получаем искомую цифровую подпись ζ.\n",
    "  \n",
    "Использование хеш-функции зависит от эллиптической кривой и порядка q. \n",
    "Если $2^{254}<q<2^{256}$ то используется Стрибог256, если $2^{508}<q<2^{512}$ то используется Стрибог512."
   ]
  },
  {
   "cell_type": "markdown",
   "id": "36952867",
   "metadata": {},
   "source": [
    "**Проверка подписи**\n",
    "\n",
    "1) По подписи ζ вычисляем целые числа r и s. Если 0 < r < q и 0 < s < q – переходим к следующему пункту. Иначе – подпись неверна.\n",
    "2) Вычисляется хеш-код сообщения M и значения α и e аналогично п.2) в разделе «Формирование подписи».\n",
    "3) Вычисляется $v=e^{-1}$ (mod q) и по нему находятся\n",
    "   $z_{1}=sv(mod q)$, $z_{2}=-rv(mod q)$\n",
    "4) Вычисляется точка эллиптической кривой $С=z_{1} P+z_{2} Q$, где Q – ключ проверки подписи – точка эллиптической кривой Q: dP = Q. Далее определяется значение $R=x_{c} (mod q)$\n",
    "5) Если R = r – подпись принимается, иначе – подпись неверна."
   ]
  },
  {
   "cell_type": "code",
   "execution_count": 209,
   "id": "9a8bcaad",
   "metadata": {},
   "outputs": [],
   "source": [
    "from gost34.gost3410 import DSGOST"
   ]
  },
  {
   "cell_type": "markdown",
   "id": "3f2c82ed",
   "metadata": {},
   "source": [
    "### Примеры использования\n",
    "### Задаем параметры эллиптической кривой:"
   ]
  },
  {
   "cell_type": "code",
   "execution_count": 210,
   "id": "90dd2ec8",
   "metadata": {},
   "outputs": [],
   "source": [
    "p = 57896044618658097711785492504343953926634992332820282019728792003956564821041 #модуль \n",
    "a = 7\n",
    "b = 43308876546767276905765904595650931995942111794451039583252968842033849580414 #коэффициенты\n",
    "x = 2\n",
    "y = 4018974056539037503335449422937059775635739389905545080690979365213431566280 #координаты\n",
    "q = 57896044618658097711785492504343953927082934583725450622380973592137631069619 #порядок\n",
    "\n",
    "private_key = 55441196065363246126355624130324183196576709222340016572108097750006097525544"
   ]
  },
  {
   "cell_type": "markdown",
   "id": "ee337070",
   "metadata": {},
   "source": [
    "### Подпись"
   ]
  },
  {
   "cell_type": "code",
   "execution_count": 211,
   "id": "384bb2dc",
   "metadata": {},
   "outputs": [
    {
     "data": {
      "text/plain": [
       "(48040265884241376626627835808967751096720262965568645644336884349912716925063,\n",
       " 26429302642830877647902491075943663743358728645895341078457801108525276118070)"
      ]
     },
     "execution_count": 211,
     "metadata": {},
     "output_type": "execute_result"
    }
   ],
   "source": [
    "message_hash = int(binascii.hexlify(digest).decode('Windows-1251'), 16)\n",
    "\n",
    "gost3410 = DSGOST(p, a, b, q, x, y)\n",
    "sign = gost3410.sign(message_hash, private_key)\n",
    "sign"
   ]
  }
 ],
 "metadata": {
  "kernelspec": {
   "display_name": "Python 3",
   "language": "python",
   "name": "python3"
  },
  "language_info": {
   "codemirror_mode": {
    "name": "ipython",
    "version": 3
   },
   "file_extension": ".py",
   "mimetype": "text/x-python",
   "name": "python",
   "nbconvert_exporter": "python",
   "pygments_lexer": "ipython3",
   "version": "3.8.8"
  }
 },
 "nbformat": 4,
 "nbformat_minor": 5
}
